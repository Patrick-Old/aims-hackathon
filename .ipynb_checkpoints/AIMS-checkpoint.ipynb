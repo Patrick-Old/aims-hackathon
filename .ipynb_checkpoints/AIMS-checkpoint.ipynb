{
 "cells": [
  {
   "cell_type": "code",
   "execution_count": 58,
   "metadata": {},
   "outputs": [],
   "source": [
    "import pandas as pd\n",
    "import numpy as np\n",
    "import us"
   ]
  },
  {
   "cell_type": "code",
   "execution_count": 34,
   "metadata": {},
   "outputs": [],
   "source": [
    "df = pd.read_csv(\"people_orgs.csv\")\n",
    "int_df = {\"id\": df[\"id\"], \"name\": df[\"name\"], \"agency_slug\": df[\"agency_slug\"], \"agency_name\": df[\"name.1\"], \"agency_city\": df[\"city\"], \"agency_state\": df[\"state\"], \"slug_1\": df[\"slug.1\"]}\n",
    "x = pd.DataFrame(int_df)\n",
    "uniq = x[\"id\"].unique()"
   ]
  },
  {
   "cell_type": "code",
   "execution_count": 57,
   "metadata": {},
   "outputs": [
    {
     "name": "stdout",
     "output_type": "stream",
     "text": [
      "['New Hampshire', 'Iowa', 'PA', 'WA', 'New Jersey', 'Arkansas', 'Florida', 'Vermont', 'CO', 'South Carolina', 'Colorado', 'TN', 'OH', 'Michigan', 'IA', 'Massachusetts', 'Maryland', 'MS', 'Nebraska', 'NV', 'Delaware', 'Kansas', 'IL', 'Maine', 'MO', 'SC', 'NY', 'Minnesota', 'Illinois', 'Mississippi', 'Virginia', 'ND', 'Nevada', 'North Carolina', 'Kentucky', 'Texas', 'MD', 'AK', 'Oregon', 'South Dakota', 'DC', 'Rhode Island', 'Connecticut', 'KY', 'IN', 'North Dakota', 'Alaska', 'CT', 'California', 'Missouri', 'Montana', 'Tennessee', 'VT', 'West Virginia', 'NE', 'Oklahoma', 'Louisiana', 'Ohio', 'FL', 'Pennsylvania', 'GA', 'Washington', 'Georgia', 'Arizona', 'Idaho', 'NH', 'Alabama', 'Wisconsin', 'Indiana', 'NC', 'Utah', 'TX', 'LA', 'NJ', 'CA', 'MA', 'VA', 'New York', 'WI']\n"
     ]
    }
   ],
   "source": [
    "ds = pd.DataFrame(columns=x.columns)\n",
    "\n",
    "count = 0\n",
    "for index, row in x.iterrows():\n",
    "    row_ex = {}\n",
    "    for col in x.columns:\n",
    "        row_ex[col] = row[col]\n",
    "    if row_ex[\"id\"] not in list(ds[\"id\"]):\n",
    "        ds.loc[count] = row_ex\n",
    "        count += 1\n",
    "    \n",
    "#print (ds)\n",
    "\n",
    "#print (ds[\"agency_state\"])"
   ]
  },
  {
   "cell_type": "code",
   "execution_count": 66,
   "metadata": {},
   "outputs": [],
   "source": [
    "unique_states = set(ds[\"agency_state\"])\n",
    "\n",
    "states_abvrs = [\"AL\", \"AK\", \"AZ\", \"AR\", \"CA\", \"CO\", \"CT\", \"DC\", \"DE\", \"FL\", \"GA\", \n",
    "          \"HI\", \"ID\", \"IL\", \"IN\", \"IA\", \"KS\", \"KY\", \"LA\", \"ME\", \"MD\", \n",
    "          \"MA\", \"MI\", \"MN\", \"MS\", \"MO\", \"MT\", \"NE\", \"NV\", \"NH\", \"NJ\", \n",
    "          \"NM\", \"NY\", \"NC\", \"ND\", \"OH\", \"OK\", \"OR\", \"PA\", \"RI\", \"SC\", \n",
    "          \"SD\", \"TN\", \"TX\", \"UT\", \"VT\", \"VA\", \"WA\", \"WV\", \"WI\", \"WY\"]\n",
    "\n",
    "states_full = [\"Alabama\",\"Alaska\",\"Arizona\",\"Arkansas\",\"California\",\"Colorado\",\n",
    "  \"Connecticut\",\"Delaware\",\"Florida\",\"Georgia\",\"Hawaii\",\"Idaho\",\"Illinois\",\n",
    "  \"Indiana\",\"Iowa\",\"Kansas\",\"Kentucky\",\"Louisiana\",\"Maine\",\"Maryland\",\n",
    "  \"Massachusetts\",\"Michigan\",\"Minnesota\",\"Mississippi\",\"Missouri\",\"Montana\",\n",
    "  \"Nebraska\",\"Nevada\",\"New Hampshire\",\"New Jersey\",\"New Mexico\",\"New York\",\n",
    "  \"North Carolina\",\"North Dakota\",\"Ohio\",\"Oklahoma\",\"Oregon\",\"Pennsylvania\",\n",
    "  \"Rhode Island\",\"South Carolina\",\"South Dakota\",\"Tennessee\",\"Texas\",\"Utah\",\n",
    "  \"Vermont\",\"Virginia\",\"Washington\",\"West Virginia\",\"Wisconsin\",\"Wyoming\"]\n",
    "\n",
    "output = []\n",
    "for i in unique_states:\n",
    "    if (i in states_abvrs) or (i in states_full):\n",
    "        output.append(i)\n"
   ]
  },
  {
   "cell_type": "code",
   "execution_count": null,
   "metadata": {},
   "outputs": [],
   "source": [
    "for i in output:\n",
    "    if len(i) == 2:\n",
    "        test = eval(\"us.states.\" + i + \".name\")\n",
    "        if test not in output:\n",
    "            output.append(i)\n",
    "            \n",
    "print (output)"
   ]
  },
  {
   "cell_type": "code",
   "execution_count": 63,
   "metadata": {},
   "outputs": [
    {
     "name": "stdout",
     "output_type": "stream",
     "text": [
      "['New Hampshire', 'Iowa', 'PA', 'WA', 'New Jersey', 'Arkansas', 'Florida', 'Vermont', 'CO', 'South Carolina', 'Colorado', 'TN', 'OH', 'Michigan', 'IA', 'Massachusetts', 'Maryland', 'MS', 'Nebraska', 'NV', 'Delaware', 'Kansas', 'IL', 'Maine', 'MO', 'SC', 'NY', 'Minnesota', 'Illinois', 'Mississippi', 'Virginia', 'ND', 'Nevada', 'North Carolina', 'Kentucky', 'Texas', 'MD', 'AK', 'Oregon', 'South Dakota', 'DC', 'Rhode Island', 'Connecticut', 'KY', 'IN', 'North Dakota', 'Alaska', 'CT', 'California', 'Missouri', 'Montana', 'Tennessee', 'VT', 'West Virginia', 'NE', 'Oklahoma', 'Louisiana', 'Ohio', 'FL', 'Pennsylvania', 'GA', 'Washington', 'Georgia', 'Arizona', 'Idaho', 'NH', 'Alabama', 'Wisconsin', 'Indiana', 'NC', 'Utah', 'TX', 'LA', 'NJ', 'CA', 'MA', 'VA', 'New York', 'WI']\n"
     ]
    }
   ],
   "source": []
  },
  {
   "cell_type": "code",
   "execution_count": 60,
   "metadata": {},
   "outputs": [
    {
     "name": "stdout",
     "output_type": "stream",
     "text": [
      "Maryland\n"
     ]
    }
   ],
   "source": [
    "print (us.states.MD.name)"
   ]
  },
  {
   "cell_type": "code",
   "execution_count": null,
   "metadata": {},
   "outputs": [],
   "source": []
  }
 ],
 "metadata": {
  "kernelspec": {
   "display_name": "Python 3",
   "language": "python",
   "name": "python3"
  },
  "language_info": {
   "codemirror_mode": {
    "name": "ipython",
    "version": 3
   },
   "file_extension": ".py",
   "mimetype": "text/x-python",
   "name": "python",
   "nbconvert_exporter": "python",
   "pygments_lexer": "ipython3",
   "version": "3.7.2"
  }
 },
 "nbformat": 4,
 "nbformat_minor": 2
}
