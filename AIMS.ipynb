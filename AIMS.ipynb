{
 "cells": [
  {
   "cell_type": "code",
   "execution_count": 1,
   "metadata": {},
   "outputs": [],
   "source": [
    "import pandas as pd\n",
    "import numpy as np"
   ]
  },
  {
   "cell_type": "code",
   "execution_count": 34,
   "metadata": {},
   "outputs": [],
   "source": [
    "df = pd.read_csv(\"people_orgs.csv\")\n",
    "int_df = {\"id\": df[\"id\"], \"name\": df[\"name\"], \"agency_slug\": df[\"agency_slug\"], \"agency_name\": df[\"name.1\"], \"agency_city\": df[\"city\"], \"agency_state\": df[\"state\"], \"slug_1\": df[\"slug.1\"]}\n",
    "x = pd.DataFrame(int_df)\n",
    "uniq = x[\"id\"].unique()"
   ]
  },
  {
   "cell_type": "code",
   "execution_count": 53,
   "metadata": {},
   "outputs": [
    {
     "name": "stdout",
     "output_type": "stream",
     "text": [
      "0                    Alabama\n",
      "1                         DC\n",
      "2                       Iowa\n",
      "3                   Missouri\n",
      "4                   Nebraska\n",
      "5                       Utah\n",
      "6                   Maryland\n",
      "7       District of Columbia\n",
      "8       District of Columbia\n",
      "9               Rhode Island\n",
      "10                California\n",
      "11                 Tennessee\n",
      "12      District of Columbia\n",
      "13                  Virginia\n",
      "14                        VA\n",
      "15      District of Columbia\n",
      "16      District of Columbia\n",
      "17                  Maryland\n",
      "18                  Colorado\n",
      "19                     Texas\n",
      "20                  Missouri\n",
      "21                   Georgia\n",
      "22                   Bermuda\n",
      "23                     Texas\n",
      "24      District of Columbia\n",
      "25                  Virginia\n",
      "26             New Hampshire\n",
      "27      District of Columbia\n",
      "28      District of Columbia\n",
      "29                   Georgia\n",
      "                ...         \n",
      "3332                    None\n",
      "3333                    None\n",
      "3334                    None\n",
      "3335                    None\n",
      "3336                    None\n",
      "3337                    None\n",
      "3338                    None\n",
      "3339                    None\n",
      "3340                    None\n",
      "3341                    None\n",
      "3342                    None\n",
      "3343                    None\n",
      "3344                    None\n",
      "3345                    None\n",
      "3346                    None\n",
      "3347                    None\n",
      "3348                    None\n",
      "3349                    None\n",
      "3350                    None\n",
      "3351                    None\n",
      "3352                    None\n",
      "3353                    None\n",
      "3354                    None\n",
      "3355                    None\n",
      "3356                    None\n",
      "3357                    None\n",
      "3358                    None\n",
      "3359                    None\n",
      "3360                    None\n",
      "3361                    None\n",
      "Name: agency_state, Length: 3362, dtype: object\n"
     ]
    }
   ],
   "source": [
    "ds = pd.DataFrame(columns=x.columns)\n",
    "\n",
    "count = 0\n",
    "for index, row in x.iterrows():\n",
    "    row_ex = {}\n",
    "    for col in x.columns:\n",
    "        row_ex[col] = row[col]\n",
    "    if row_ex[\"id\"] not in list(ds[\"id\"]):\n",
    "        ds.loc[count] = row_ex\n",
    "        count += 1\n",
    "    \n",
    "#print (ds)\n",
    "\n",
    "print (ds[\"agency_state\"])"
   ]
  },
  {
   "cell_type": "code",
   "execution_count": null,
   "metadata": {},
   "outputs": [],
   "source": []
  }
 ],
 "metadata": {
  "kernelspec": {
   "display_name": "Python 3",
   "language": "python",
   "name": "python3"
  },
  "language_info": {
   "codemirror_mode": {
    "name": "ipython",
    "version": 3
   },
   "file_extension": ".py",
   "mimetype": "text/x-python",
   "name": "python",
   "nbconvert_exporter": "python",
   "pygments_lexer": "ipython3",
   "version": "3.7.2"
  }
 },
 "nbformat": 4,
 "nbformat_minor": 2
}
